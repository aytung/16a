{
 "cells": [
  {
   "cell_type": "markdown",
   "metadata": {},
   "source": [
    "# EE16A Homework 13"
   ]
  },
  {
   "cell_type": "markdown",
   "metadata": {},
   "source": [
    "## Question 1: Recipe Reconnaissance"
   ]
  },
  {
   "cell_type": "code",
   "execution_count": 1,
   "metadata": {},
   "outputs": [
    {
     "name": "stdout",
     "output_type": "stream",
     "text": [
      "Populating the interactive namespace from numpy and matplotlib\n"
     ]
    }
   ],
   "source": [
    "%pylab inline\n",
    "import numpy as np\n",
    "import matplotlib.pyplot as plt\n",
    "import scipy.io\n",
    "import sys"
   ]
  },
  {
   "cell_type": "markdown",
   "metadata": {},
   "source": [
    "Note that for the following sections, we use the following labels for the unknown variables:\n",
    "\n",
    "#### Decadent Dwight\n",
    "   * D_e = eggs/cookie\n",
    "   * D_b = (grams butter)/cookie\n",
    "   * D_s = (grams sugar)/cookie\n",
    "    \n",
    "#### Heavenly Hearst\n",
    "   * H_e = eggs/cookie\n",
    "   * H_b = (grams butter)/cookie\n",
    "   * H_s = (grams sugar)/cookie\n",
    "   \n",
    "**Note**: in the following sections we only solve for 4 of the unknowns with least squares, as we are given exact values for 2 unknowns."
   ]
  },
  {
   "cell_type": "markdown",
   "metadata": {},
   "source": [
    "### Part (b)"
   ]
  },
  {
   "cell_type": "code",
   "execution_count": null,
   "metadata": {
    "collapsed": true
   },
   "outputs": [],
   "source": [
    "# Your code here.  Hint: You can use np.linalg.lstsq to get the fit and squared sum of residuals error.\n",
    "\n",
    "print('4 unknowns (set H_b and D_b = 10 g)')\n",
    "# x_ls = [D_e, H_e, D_s, H_s]\n",
    "\n",
    "#### Your Task: fill in the correct values for A and b.\n",
    "A = np.array([[40, 50, 0, 0], \\\n",
    "              [0, 0, 40, 50], \\\n",
    "              [(2/12), 0, (5/1000), 0 ], \n",
    "              [0, (2/12), 0, (5/1000)], \\\n",
    "              [0, 0, 0, 1]]\n",
    "             )\n",
    "\n",
    "b = np.array([12, (5000/7), 0.10, 0.10, 10])\n",
    "\n",
    "x_ls, res, _, _ = numpy.linalg.lstsq(A,b, rcond=None)\n",
    "np.set_printoptions(precision=4, suppress=True)\n",
    "print(A)\n",
    "print(b)\n",
    "print('D_e, H_e, D_s, H_s\\t=\\t%s' % x_ls)\n",
    "print('Sum Squared Residuals\\t=\\t%f' % res)"
   ]
  },
  {
   "cell_type": "markdown",
   "metadata": {},
   "source": [
    "### Part (c)"
   ]
  },
  {
   "cell_type": "code",
   "execution_count": null,
   "metadata": {
    "collapsed": true
   },
   "outputs": [],
   "source": [
    "# Your code here.  Hint: You can use np.linalg.lstsq to get the fit and squared sum of residuals error.\n",
    "\n",
    "print('4 unknowns (set H_b and D_b = 10 g)')\n",
    "# x_ls = [D_e, H_e, D_s, H_s]\n",
    "\n",
    "#### Your Task: fill in the correct values for A and b.\n",
    "A = np.array([[40, 50, 0, 0], \\\n",
    "              [0, 0, 40, 50], \\\n",
    "              [(2/12), 0, (5/1000), 0 ], \n",
    "              [0, (2/12), 0, (5/1000)], \\\n",
    "              [0, 0, 0, 1], \n",
    "              [50, 0, 1, 0],\n",
    "              [0, 50, 0, 1]]             \n",
    "             )\n",
    "b = np.array([12, (5000/7), 0.10, 0.10, 10, 15, 14])\n",
    "\n",
    "x_ls, res, _, _ = numpy.linalg.lstsq(A,b, rcond=None)\n",
    "np.set_printoptions(precision=4, suppress=True)\n",
    "print(A)\n",
    "print(b)\n",
    "print('D_e, H_e, D_s, H_s\\t=\\t%s' % x_ls)\n",
    "print('Sum Squared Residuals\\t=\\t%f' % res)"
   ]
  },
  {
   "cell_type": "markdown",
   "metadata": {},
   "source": [
    "## Question 3: Noise Cancelling Headphones"
   ]
  },
  {
   "cell_type": "code",
   "execution_count": null,
   "metadata": {
    "collapsed": true
   },
   "outputs": [],
   "source": [
    "%matplotlib inline\n",
    "\n",
    "import numpy as np\n",
    "from matplotlib.pyplot import plot\n",
    "from scipy.io import wavfile\n",
    "\n",
    "from audio_support import wavPlayer\n",
    "from audio_support import loadSounds\n",
    "from audio_support import recordAmbientNoise"
   ]
  },
  {
   "cell_type": "markdown",
   "metadata": {},
   "source": [
    "### Part (c)\n",
    "In the following cell, implement the least squares solution to \n",
    "$$min_{\\vec x} \\| A \\vec x - \\vec b \\|$$"
   ]
  },
  {
   "cell_type": "code",
   "execution_count": null,
   "metadata": {
    "collapsed": true
   },
   "outputs": [],
   "source": [
    "def doLeastSquares(A,b):\n",
    "    # BEGIN\n",
    "    ATA = A.T.dot(A);\n",
    "    ATA_inv = np.linalg.inv(ATA);\n",
    "    ATA_inv_AT = ATA_inv.dot(A.T);\n",
    "    x = ATA_inv_AT.dot(b);\n",
    "    # END\n",
    "    return x;  "
   ]
  },
  {
   "cell_type": "markdown",
   "metadata": {},
   "source": [
    "### Part (d)\n",
    "Use your least squares solution to find the gamma that minimizes the effect of noise given:\n",
    "\n",
    "$$\\vec n = \\begin{bmatrix} 0.10\\\\ 0.37\\\\-0.45\\\\0.068\\\\0.036 \\end{bmatrix};\n",
    "    \\vec r_A = \\begin{bmatrix} 0\\\\ 0.11\\\\-0.31\\\\-0.012\\\\-0.018 \\end{bmatrix};\n",
    "    \\vec r_B = \\begin{bmatrix} 0\\\\ 0.22\\\\-0.20\\\\0.080\\\\0.056 \\end{bmatrix};\n",
    "    \\vec r_C = \\begin{bmatrix} 0\\\\ 0.37\\\\-0.44\\\\0.065\\\\0.038 \\end{bmatrix}$$\n"
   ]
  },
  {
   "cell_type": "code",
   "execution_count": null,
   "metadata": {
    "collapsed": true
   },
   "outputs": [],
   "source": [
    "n1 = 0.10;\n",
    "n2 = 0.37;\n",
    "n3 = -0.45;\n",
    "n4 = 0.068;\n",
    "n5 = 0.036;\n",
    "\n",
    "a1 = 0;\n",
    "a2 = 0.11;\n",
    "a3 = -0.31;\n",
    "a4 = -0.012;\n",
    "a5 = -0.018;\n",
    "\n",
    "b1 = 0;\n",
    "b2 = 0.22;\n",
    "b3 = -0.20;\n",
    "b4 = 0.080;\n",
    "b5 = 0.056;\n",
    "\n",
    "c1 = 0;\n",
    "c2 = 0.37;\n",
    "c3 = -0.44;\n",
    "c4 = 0.065;\n",
    "c5 = 0.038;\n",
    "\n",
    "# BEGIN\n",
    "\n",
    "R = np.array([[a1,b1,c1],\n",
    "     [a2,b2,c2],\n",
    "     [a3,b3,c3],\n",
    "     [a4,b4,c4],\n",
    "     [a5,b5,c5]]);\n",
    "n = np.array([n1,n2,n3,n4,n5]);\n",
    "n\n",
    "gamma = doLeastSquares(R,-n);\n",
    "\n",
    "# END\n",
    "print(gamma)"
   ]
  },
  {
   "cell_type": "markdown",
   "metadata": {},
   "source": [
    "<font color=\"red\">Report the results for your gamma-vector."
   ]
  },
  {
   "cell_type": "markdown",
   "metadata": {},
   "source": [
    "### Part (e)\n",
    "First, we'll load the sounds from the included .wav files."
   ]
  },
  {
   "cell_type": "code",
   "execution_count": null,
   "metadata": {
    "collapsed": true
   },
   "outputs": [],
   "source": [
    "[music_Fs, music_y, noise1_y, noise1_Fs, noise2_y, noise2_Fs] = loadSounds();"
   ]
  },
  {
   "cell_type": "code",
   "execution_count": null,
   "metadata": {
    "collapsed": true
   },
   "outputs": [],
   "source": [
    "noise1_y"
   ]
  },
  {
   "cell_type": "markdown",
   "metadata": {},
   "source": [
    "We can use the following function to listen to our signals throughout this notebook. \n",
    "\n",
    "<font color=\"red\">Listen to each of the loaded sounds (`music_y`, `noise1_y`, and `noise2_y`). What do you hear?"
   ]
  },
  {
   "cell_type": "code",
   "execution_count": null,
   "metadata": {
    "collapsed": true
   },
   "outputs": [],
   "source": [
    "wavPlayer(music_y, music_Fs)\n",
    "wavPlayer(noise1_y, music_Fs)\n",
    "wavPlayer(noise2_y, music_Fs)"
   ]
  },
  {
   "cell_type": "markdown",
   "metadata": {},
   "source": [
    "Add noise to the signal and listen to the result."
   ]
  },
  {
   "cell_type": "code",
   "execution_count": null,
   "metadata": {
    "collapsed": true
   },
   "outputs": [],
   "source": [
    "noisyMusic = music_y + noise1_y;\n",
    "wavPlayer(noisyMusic, music_Fs)\n",
    "\n",
    "noisyMusic = music_y + noise2_y;\n",
    "wavPlayer(noisyMusic, music_Fs)"
   ]
  },
  {
   "cell_type": "markdown",
   "metadata": {},
   "source": [
    "### Part (f)\n",
    "Next, we will simulate the recording of `noise1` using a simulated microphone array."
   ]
  },
  {
   "cell_type": "code",
   "execution_count": null,
   "metadata": {
    "collapsed": true
   },
   "outputs": [],
   "source": [
    "numberOfMicrophones = 3;\n",
    "R = recordAmbientNoise(noise1_y,noise1_Fs,numberOfMicrophones);"
   ]
  },
  {
   "cell_type": "markdown",
   "metadata": {},
   "source": [
    "<font color=\"red\">In the cell below, calculate the gamma-vector using the least squares approach (you should calculate `gamma` from `R` and `noise1_y`). "
   ]
  },
  {
   "cell_type": "code",
   "execution_count": null,
   "metadata": {
    "collapsed": true
   },
   "outputs": [],
   "source": [
    "# BEGIN\n",
    "gamma = doLeastSquares(R,-noise1_y);\n",
    "# END"
   ]
  },
  {
   "cell_type": "markdown",
   "metadata": {},
   "source": [
    "<font color=\"red\">In the cell below, create the noise cancellation signal by multiplying `R` and `gamma`. Add the result to `music_y` (with the right sign) to get `signalFromSpeaker`."
   ]
  },
  {
   "cell_type": "code",
   "execution_count": null,
   "metadata": {
    "collapsed": true
   },
   "outputs": [],
   "source": [
    "# BEGIN\n",
    "noiseCancellation = R.dot(gamma);\n",
    "signalFromSpeaker = music_y+noiseCancellation;\n",
    "# END"
   ]
  },
  {
   "cell_type": "markdown",
   "metadata": {},
   "source": [
    "### Part (g)\n",
    "Generate the signal at the listener's ear by adding the speaker signal (`signalFromSpeaker`) to the original noise signal (`noise1_y`)."
   ]
  },
  {
   "cell_type": "code",
   "execution_count": null,
   "metadata": {
    "collapsed": true
   },
   "outputs": [],
   "source": [
    "signalAtEar = signalFromSpeaker + noise1_y;"
   ]
  },
  {
   "cell_type": "markdown",
   "metadata": {},
   "source": [
    "Listen to the noisy and noise-cancelled signal."
   ]
  },
  {
   "cell_type": "code",
   "execution_count": null,
   "metadata": {
    "collapsed": true
   },
   "outputs": [],
   "source": [
    "wavPlayer(noisyMusic, music_Fs)\n",
    "wavPlayer(signalAtEar, music_Fs)"
   ]
  },
  {
   "cell_type": "markdown",
   "metadata": {},
   "source": [
    "<font color=\"red\">What difference can you hear between these signals?"
   ]
  },
  {
   "cell_type": "markdown",
   "metadata": {},
   "source": [
    "### Part (h)\n",
    "Now, we'll see how well this gamma works for other noise. \n",
    "\n",
    "We will run through the simulation again, but this time, we will just use the gamma from before instead of going through a training step."
   ]
  },
  {
   "cell_type": "code",
   "execution_count": null,
   "metadata": {
    "collapsed": true
   },
   "outputs": [],
   "source": [
    "noisyMusic_2 = music_y + noise2_y;\n",
    "R_2 = recordAmbientNoise(noise2_y,noise2_Fs,numberOfMicrophones);\n",
    "noiseCancellation_2 = R_2.dot(gamma);\n",
    "signalFromSpeaker_2 = music_y-noiseCancellation_2;\n",
    "signalAtEar_2 = signalFromSpeaker_2 + noise2_y;\n",
    "\n",
    "wavPlayer(noisyMusic_2, music_Fs)\n",
    "wavPlayer(signalAtEar_2, music_Fs)"
   ]
  },
  {
   "cell_type": "markdown",
   "metadata": {},
   "source": [
    "<font color=\"red\"> What do you hear in the noise-cancelled signal?"
   ]
  },
  {
   "cell_type": "markdown",
   "metadata": {},
   "source": [
    "## Question 4: Image Analysis"
   ]
  },
  {
   "cell_type": "code",
   "execution_count": 2,
   "metadata": {
    "collapsed": true
   },
   "outputs": [],
   "source": [
    "def plot_circle2(a, d, e):\n",
    "    \"\"\"\n",
    "    This plots the true ellipse along with the circle\n",
    "    that you plot.\n",
    "    \n",
    "    You can comment out the line that starts with `plt.title`\n",
    "    because this makes assumptions regarding the title of your plot.\n",
    "    \"\"\"\n",
    "    is_circle = d**2 + e**2 - 4*a > 0\n",
    "    assert is_circle, \"Not a circle\"\n",
    "    \n",
    "    XLIM_LO = -1\n",
    "    XLIM_HI = 3\n",
    "    YLIM_LO = -2\n",
    "    YLIM_HI = 2\n",
    "    X_COUNT = 400\n",
    "    Y_COUNT = 400\n",
    "    \n",
    "    x = np.linspace(XLIM_LO, XLIM_HI, X_COUNT)\n",
    "    y = np.linspace(YLIM_LO, YLIM_HI, Y_COUNT)\n",
    "    x, y = np.meshgrid(x, y)\n",
    "    f = lambda x,y: a*(x**2 + y**2) + d*x + e*y\n",
    "    f2 = lambda x,y: 3*x*x + .5*x*y + 4*y*y -5*x -.6*y\n",
    "    \n",
    "    c1 = plt.contour(x, y, f(x,y), [1], colors='r')\n",
    "    c2 = plt.contour(x, y, f2(x,y), [1], colors='b')\n",
    "    plt.axis('scaled')\n",
    "    plt.xlabel('x')\n",
    "    plt.ylabel('y')\n",
    "    plt.title(r'${:.2f}(x^2 + y^2) {:+.2f}x {:+.2f}y$'.format(a,d,e))\n",
    "    \n",
    "    lines = (c1.collections[0], c2.collections[0])\n",
    "    labels = ('Least Squares', 'True Cell Boundary')\n",
    "    plt.legend(lines, labels, loc='upper right')"
   ]
  },
  {
   "cell_type": "code",
   "execution_count": 3,
   "metadata": {
    "collapsed": true
   },
   "outputs": [],
   "source": [
    "def plot_ellipse2(a, b, c, d, e):\n",
    "    \"\"\"\n",
    "    This plots the true ellipse along with the ellipse\n",
    "    that you plot.\n",
    "    \n",
    "    You can comment out the line that starts with `plt.title`\n",
    "    because this makes assumptions regarding the title of your plot.\n",
    "    \"\"\"\n",
    "    is_ellipse = b**2 - 4*a*c < 0\n",
    "    assert is_ellipse, \"Not an ellipse\"\n",
    "    \n",
    "    XLIM_LO = -1\n",
    "    XLIM_HI = 3\n",
    "    YLIM_LO = -2\n",
    "    YLIM_HI = 2\n",
    "    X_COUNT = 400\n",
    "    Y_COUNT = 400\n",
    "    \n",
    "    x = np.linspace(XLIM_LO, XLIM_HI, X_COUNT)\n",
    "    y = np.linspace(YLIM_LO, YLIM_HI, Y_COUNT)\n",
    "    x, y = np.meshgrid(x, y)\n",
    "    f = lambda x,y: a*x**2 + b*x*y + c*y**2 + d*x + e*y\n",
    "    f2 = lambda x,y: 3*x*x + .5*x*y + 4*y*y -5*x -.6*y\n",
    "    \n",
    "    c1 = plt.contour(x, y, f(x,y), [1], colors='r')\n",
    "    c2 = plt.contour(x, y, f2(x,y), [1], colors='b')\n",
    "    plt.axis('scaled')\n",
    "    plt.xlabel('x')\n",
    "    plt.ylabel('y')\n",
    "    plt.title(r'${:.2f}x^2 {:+.2f}xy {:+.2f}y^2 {:+.2f}x {:+.2f}y$'.format(a,b,c,d,e))\n",
    "    \n",
    "    lines = (c1.collections[0], c2.collections[0])\n",
    "    labels = ('Least Squares', 'True Cell Boundary')\n",
    "    plt.legend(lines, labels, loc='upper right')"
   ]
  },
  {
   "cell_type": "code",
   "execution_count": 4,
   "metadata": {},
   "outputs": [
    {
     "data": {
      "image/png": "[encoded data removed]",
      "text/plain": [
       "<Figure size 432x432 with 1 Axes>"
      ]
     },
     "metadata": {},
     "output_type": "display_data"
    }
   ],
   "source": [
    "# Here is an example of plot_ellipse.\n",
    "# This plots (x-1)**2 + (y-1)**2 = 1, \n",
    "# which is a circle centered at (1,1). \n",
    "\n",
    "plt.figure(figsize=(6,6))\n",
    "plot_ellipse2(1, 0, 1, -1, -1)"
   ]
  },
  {
   "cell_type": "markdown",
   "metadata": {},
   "source": [
    "### Part (c)\n",
    "You may find [plt.scatter](http://matplotlib.org/api/pyplot_api.html) useful for plotting the points."
   ]
  },
  {
   "cell_type": "code",
   "execution_count": 5,
   "metadata": {},
   "outputs": [
    {
     "name": "stdout",
     "output_type": "stream",
     "text": [
      "A = [[ 0.5661  0.3    -0.69  ]\n",
      " [ 1.0069  0.5     0.87  ]\n",
      " [ 1.5496  0.9    -0.86  ]\n",
      " [ 1.7744  1.      0.88  ]\n",
      " [ 2.1124  1.2    -0.82  ]\n",
      " [ 2.6596  1.5     0.64  ]\n",
      " [ 3.24    1.8     0.    ]]\n",
      "\n",
      "xhat = [ 4.87314137 -7.89293482 -0.22651484]\n",
      "\n"
     ]
    }
   ],
   "source": [
    "xy = np.array([[0.3, -0.69],\n",
    "               [0.5, 0.87],\n",
    "               [0.9, -0.86],\n",
    "               [1, 0.88],\n",
    "               [1.2, -0.82],\n",
    "               [1.5, .64],\n",
    "               [1.8, 0]])\n",
    "x = xy[:,0]\n",
    "y = xy[:,1]\n",
    "\n",
    "# First we compute our estimated coefficients\n",
    "A = np.c_[x**2+y**2, x, y]\n",
    "print(\"A = {}\\n\".format(A))\n",
    "b = np.ones((7,))\n",
    "xhat = np.linalg.inv(A.T.dot(A)).dot(A.T).dot(b)\n",
    "print(\"xhat = {}\\n\".format(xhat))"
   ]
  },
  {
   "cell_type": "code",
   "execution_count": 6,
   "metadata": {},
   "outputs": [
    {
     "data": {
      "text/plain": [
       "<matplotlib.collections.PathCollection at 0x11eead3c8>"
      ]
     },
     "execution_count": 6,
     "metadata": {},
     "output_type": "execute_result"
    },
    {
     "data": {
      "image/png": "[encoded data removed]",
      "text/plain": [
       "<Figure size 432x432 with 1 Axes>"
      ]
     },
     "metadata": {},
     "output_type": "display_data"
    }
   ],
   "source": [
    "# Then we plot\n",
    "plt.figure(figsize=(6, 6))\n",
    "plot_circle2(xhat[0], xhat[1], xhat[2])\n",
    "plt.scatter(x,y, color='k')"
   ]
  },
  {
   "cell_type": "code",
   "execution_count": null,
   "metadata": {
    "collapsed": true
   },
   "outputs": [],
   "source": [
    "# Then we compute the error\n",
    "e = A.dot(xhat) - b\n",
    "print(\"e = {}\\n\".format(e))\n",
    "print(\"||e|| = {}\\n\".format(np.linalg.norm(e)))\n",
    "N = 7\n",
    "print(\"||e|| / N = {}\\n\".format(np.linalg.norm(e)/N))"
   ]
  },
  {
   "cell_type": "markdown",
   "metadata": {},
   "source": [
    "### Part (d)"
   ]
  },
  {
   "cell_type": "code",
   "execution_count": 7,
   "metadata": {},
   "outputs": [
    {
     "name": "stdout",
     "output_type": "stream",
     "text": [
      "[[ 0.09   -0.207   0.4761  0.3    -0.69  ]\n",
      " [ 0.25    0.435   0.7569  0.5     0.87  ]\n",
      " [ 0.81   -0.774   0.7396  0.9    -0.86  ]\n",
      " [ 1.      0.88    0.7744  1.      0.88  ]\n",
      " [ 1.44   -0.984   0.6724  1.2    -0.82  ]\n",
      " [ 2.25    0.96    0.4096  1.5     0.64  ]\n",
      " [ 3.24    0.      0.      1.8     0.    ]]\n",
      "\n",
      "xhat = [ 4.10382951  0.48711384  4.93938449 -6.85032284 -0.62259259]\n",
      "\n"
     ]
    }
   ],
   "source": [
    "# First, we compute our estimated coefficients\n",
    "A = np.c_[x**2, x*y, y**2, x, y]\n",
    "print(\"{}\\n\".format(A))\n",
    "b = np.ones((7,))\n",
    "xhat = np.linalg.inv(A.T.dot(A)).dot(A.T).dot(b)\n",
    "print(\"xhat = {}\\n\".format(xhat))"
   ]
  },
  {
   "cell_type": "code",
   "execution_count": 8,
   "metadata": {},
   "outputs": [
    {
     "data": {
      "text/plain": [
       "<matplotlib.collections.PathCollection at 0x11ee16978>"
      ]
     },
     "execution_count": 8,
     "metadata": {},
     "output_type": "execute_result"
    },
    {
     "data": {
      "image/png": "[encoded data removed]",
      "text/plain": [
       "<Figure size 432x432 with 1 Axes>"
      ]
     },
     "metadata": {},
     "output_type": "display_data"
    }
   ],
   "source": [
    "# Then we plot\n",
    "plt.figure(figsize=(6, 6))\n",
    "plot_ellipse2(xhat[0], xhat[1], xhat[2], xhat[3], xhat[4])\n",
    "plt.scatter(x,y,color='k')"
   ]
  },
  {
   "cell_type": "code",
   "execution_count": null,
   "metadata": {
    "collapsed": true
   },
   "outputs": [],
   "source": [
    "# Then we compute the error\n",
    "e = A.dot(xhat) - b\n",
    "print(\"e = {}\\n\".format(e))\n",
    "print(\"||e|| = {}\\n\".format(np.linalg.norm(e)))\n",
    "N = 7\n",
    "print(\"||e|| / N = {}\\n\".format(np.linalg.norm(e)/N))"
   ]
  },
  {
   "cell_type": "markdown",
   "metadata": {},
   "source": [
    "## Question 5: Pollster"
   ]
  },
  {
   "cell_type": "code",
   "execution_count": 1,
   "metadata": {
    "collapsed": true
   },
   "outputs": [],
   "source": [
    "import numpy as np\n",
    "import matplotlib.pyplot as plt \n",
    "import scipy.io as sio\n",
    "%matplotlib inline\n",
    "\n",
    "data = sio.loadmat('./IPython/data.mat')\n",
    "\n",
    "# All data examples/labels (training & testing)\n",
    "examples = data['data']\n",
    "labels = data['labels'][0,:]\n",
    "\n",
    "N_examples = examples.shape[0]\n",
    "N_features = examples.shape[1]\n",
    "\n",
    "# Least Squares\n",
    "doLeastSquares = lambda A,b : np.linalg.lstsq(A,b,rcond=0.)[0]"
   ]
  },
  {
   "cell_type": "markdown",
   "metadata": {},
   "source": [
    "### part (b)\n",
    "\n",
    "The total prediction error is the length of the error vector, $\\|\\vec{b} - \\mathbf{A}\\vec{\\hat{x}}\\|$."
   ]
  },
  {
   "cell_type": "code",
   "execution_count": 3,
   "metadata": {},
   "outputs": [
    {
     "name": "stdout",
     "output_type": "stream",
     "text": [
      "Total training prediction error:  0.863316443561086\n",
      "Total testing prediction error:  0.3203415321831524\n"
     ]
    }
   ],
   "source": [
    "# Setup A,b\n",
    "K = 90\n",
    "A = examples[:K,:]\n",
    "b = labels[:K]\n",
    "\n",
    "# Solve Linear Least Squares (doLeastSquares)\n",
    "x_hat = doLeastSquares(A,b)\n",
    "\n",
    "# Evaluate training prediction error\n",
    "pred_b = np.matmul(A,x_hat)\n",
    "pred_training_error = np.linalg.norm(pred_b-b)\n",
    "print('Total training prediction error: ', pred_training_error)\n",
    "\n",
    "# Evaluate testing prediction error\n",
    "A_test = examples[K:,:]\n",
    "b_test = labels[K:]\n",
    "pred_b = np.matmul(A_test,x_hat)\n",
    "pred_testing_error = np.linalg.norm(pred_b-b_test)\n",
    "print('Total testing prediction error: ', pred_testing_error)"
   ]
  },
  {
   "cell_type": "markdown",
   "metadata": {},
   "source": [
    "### Part (d)\n",
    "\n",
    "Compute the eigenvalues of $\\mathbf{A}^T\\mathbf{A}$."
   ]
  },
  {
   "cell_type": "code",
   "execution_count": 9,
   "metadata": {},
   "outputs": [
    {
     "data": {
      "text/plain": [
       "Text(0.5,1,'$A^TA$ Eigenvalues')"
      ]
     },
     "execution_count": 9,
     "metadata": {},
     "output_type": "execute_result"
    },
    {
     "data": {
      "image/png": "[encoded data removed]",
      "text/plain": [
       "<Figure size 576x216 with 1 Axes>"
      ]
     },
     "metadata": {},
     "output_type": "display_data"
    }
   ],
   "source": [
    "AtA = A.transpose()@A\n",
    "\n",
    "e,v = np.linalg.eig(AtA)\n",
    "\n",
    "plt.figure(figsize=(8,3))\n",
    "plt.plot(e)\n",
    "plt.title('$A^TA$ Eigenvalues')"
   ]
  },
  {
   "cell_type": "markdown",
   "metadata": {},
   "source": [
    "### part (e)\n",
    "\n",
    "Create the augmented matrix $\\tilde{\\mathbf{A}}$ and the augmented vector $\\vec{\\tilde{b}}$. Fill in the ... to complete the np.concatenate statements."
   ]
  },
  {
   "cell_type": "code",
   "execution_count": 4,
   "metadata": {},
   "outputs": [
    {
     "name": "stdout",
     "output_type": "stream",
     "text": [
      "Old A dimensions: (90, 10)\n",
      "New A dimensions: (100, 10)\n",
      "Old b dimensions: (90,)\n",
      "New b dimensions: (100,)\n"
     ]
    }
   ],
   "source": [
    "gamma = 1\n",
    "gammaI = np.sqrt(gamma) * np.eye(N_features)\n",
    "zeroVec = np.zeros(N_features)\n",
    "\n",
    "# augmented A matrix (complete statement)\n",
    "augA = np.concatenate((A,gammaI),axis=0)\n",
    "print('Old A dimensions:',A.shape)\n",
    "print('New A dimensions:',augA.shape)\n",
    "\n",
    "# augmented b vector (complete statement)\n",
    "augb = np.concatenate((b,zeroVec),axis=0)\n",
    "print('Old b dimensions:',b.shape)\n",
    "print('New b dimensions:',augb.shape)"
   ]
  },
  {
   "cell_type": "markdown",
   "metadata": {},
   "source": [
    "### Part (h)"
   ]
  },
  {
   "cell_type": "code",
   "execution_count": 5,
   "metadata": {},
   "outputs": [
    {
     "data": {
      "image/png": "[encoded data removed]",
      "text/plain": [
       "<Figure size 576x216 with 1 Axes>"
      ]
     },
     "metadata": {},
     "output_type": "display_data"
    }
   ],
   "source": [
    "gammas = [0, 10, 100]\n",
    "plt.figure(figsize=(8,3))\n",
    "for ii in range(len(gammas)):\n",
    "    AtApgamma= A.transpose()@A + gammas[ii] * np.eye(A.shape[1])\n",
    "    e,v = np.linalg.eig(AtApgamma)\n",
    "\n",
    "    plt.plot(e)\n",
    "    plt.title('$A^TA + \\gamma I$ Eigenvalues')"
   ]
  },
  {
   "cell_type": "markdown",
   "metadata": {},
   "source": [
    "### part (i)\n",
    "\n",
    "For each $\\gamma$ in the list, recreate the augmented A matrix, compute the modified least squares solution by calling the function doLeastSquares, and for each solution compute its corresponding total testing prediction error."
   ]
  },
  {
   "cell_type": "code",
   "execution_count": 6,
   "metadata": {
    "scrolled": false
   },
   "outputs": [
    {
     "name": "stdout",
     "output_type": "stream",
     "text": [
      "Optimal gamma:  9.326033468832199\n",
      "Achieved Total Prediction Error:  0.3065022811871672\n"
     ]
    },
    {
     "data": {
      "text/plain": [
       "[<matplotlib.lines.Line2D at 0x113897048>]"
      ]
     },
     "execution_count": 6,
     "metadata": {},
     "output_type": "execute_result"
    },
    {
     "data": {
      "image/png": "[encoded data removed]",
      "text/plain": [
       "<Figure size 576x216 with 1 Axes>"
      ]
     },
     "metadata": {},
     "output_type": "display_data"
    }
   ],
   "source": [
    "N_gamma = 100\n",
    "gammaList = np.logspace(-2,1.5,N_gamma)\n",
    "reg_total_testing_pred_error = np.zeros(N_gamma)\n",
    "\n",
    "K = 90\n",
    "A_testing = examples[K:,:]\n",
    "b_testing = labels[K:]\n",
    "\n",
    "for ii in range(N_gamma):\n",
    "    # create the augmented A matrix (similar to in part e)\n",
    "    sqrtgammaI = np.sqrt(gammaList[ii])*np.eye(N_features)\n",
    "    augA = np.concatenate((A,sqrtgammaI),axis=0)\n",
    "    \n",
    "    # Call lls to find linear least squares solution\n",
    "    x_opt_reglls = doLeastSquares(augA,augb)\n",
    "    \n",
    "    # Evaluate testing error\n",
    "    pred_b = np.matmul(A_testing,x_opt_reglls)\n",
    "    reg_total_testing_pred_error[ii] = np.linalg.norm(pred_b - b_testing)\n",
    "\n",
    "    \n",
    "# Do not edits this\n",
    "plt.figure(figsize=(8,3))\n",
    "plt.semilogx(gammaList,reg_total_testing_pred_error)\n",
    "plt.semilogx(gammaList,pred_testing_error*np.ones(N_gamma),'r--')\n",
    "plt.xlabel('log($\\gamma$)')\n",
    "plt.title('Total Prediction Error vs. log($\\gamma$)')\n",
    "plt.tight_layout()\n",
    "\n",
    "gamma_reglls_opt = gammaList[np.argmin(reg_total_testing_pred_error)]\n",
    "testing_error_reglls_opt = np.min(reg_total_testing_pred_error)\n",
    "print('Optimal gamma: ', gamma_reglls_opt)\n",
    "print('Achieved Total Prediction Error: ', testing_error_reglls_opt)\n",
    "\n",
    "plt.semilogx(gamma_reglls_opt, testing_error_reglls_opt, 'c*')"
   ]
  },
  {
   "cell_type": "markdown",
   "metadata": {
    "collapsed": true
   },
   "source": [
    "## Question 7: Sparse Imaging\n",
    "\n",
    "This example generates a sparse signal and tries to recover it using the Orthogonal Matching Pursuit algorithm."
   ]
  },
  {
   "cell_type": "code",
   "execution_count": 1,
   "metadata": {
    "collapsed": true
   },
   "outputs": [],
   "source": [
    "# imports\n",
    "import matplotlib.pyplot as plt\n",
    "import numpy as np\n",
    "from scipy import misc\n",
    "from IPython import display\n",
    "import sys\n",
    "%matplotlib inline\n",
    "\n",
    "def randMasks(numMasks, numPixels):\n",
    "    randNormalMat = np.random.normal(0,1,(numMasks,numPixels))\n",
    "    # make the columns zero mean and normalize\n",
    "    for k in range(numPixels):\n",
    "        # make zero mean\n",
    "        randNormalMat[:,k] = randNormalMat[:,k] - np.mean(randNormalMat[:,k])\n",
    "        # normalize to unit norm\n",
    "        randNormalMat[:,k] = randNormalMat[:,k] / np.linalg.norm(randNormalMat[:,k])\n",
    "    A = randNormalMat.copy()\n",
    "    Mask = randNormalMat - np.min(randNormalMat)    \n",
    "    return Mask,A\n",
    "\n",
    "def simulate():\n",
    "    # read the image in grayscale\n",
    "    I = np.load('helper.npy')\n",
    "    sp = np.sum(I)\n",
    "    numMeasurements = 6500\n",
    "    numPixels = I.size\n",
    "    Mask, A = randMasks(numMeasurements,numPixels)\n",
    "    full_signal = I.reshape((numPixels,1))\n",
    "    measurements = np.dot(Mask,full_signal)\n",
    "    measurements = measurements - np.mean(measurements)\n",
    "    return measurements, A    "
   ]
  },
  {
   "cell_type": "markdown",
   "metadata": {},
   "source": [
    "### Part (a)"
   ]
  },
  {
   "cell_type": "code",
   "execution_count": 2,
   "metadata": {
    "collapsed": true
   },
   "outputs": [],
   "source": [
    "measurements, A = simulate()\n",
    "\n",
    "# THE SETTINGS FOR THE IMAGE - PLEASE DO NOT CHANGE\n",
    "height = 91\n",
    "width = 120\n",
    "sparsity = 476\n",
    "numPixels = len(A[0])"
   ]
  },
  {
   "cell_type": "code",
   "execution_count": 3,
   "metadata": {},
   "outputs": [
    {
     "data": {
      "image/png": "[encoded data removed]",
      "text/plain": [
       "<Figure size 432x288 with 1 Axes>"
      ]
     },
     "metadata": {},
     "output_type": "display_data"
    }
   ],
   "source": [
    "# CHOOSE DIFFERENT MASKS TO PLOT\n",
    "chosenMaskToDisplay = 0\n",
    "\n",
    "M0 = A[chosenMaskToDisplay].reshape((height,width))\n",
    "plt.title('mask %d'%chosenMaskToDisplay)\n",
    "plt.imshow(M0, cmap=plt.cm.gray, interpolation='nearest');"
   ]
  },
  {
   "cell_type": "code",
   "execution_count": 4,
   "metadata": {},
   "outputs": [
    {
     "data": {
      "image/png": "[encoded data removed]",
      "text/plain": [
       "<Figure size 432x288 with 1 Axes>"
      ]
     },
     "metadata": {},
     "output_type": "display_data"
    }
   ],
   "source": [
    "# measurements\n",
    "plt.title('measurements')\n",
    "plt.plot(measurements)\n",
    "plt.xlabel('measurement index')\n",
    "plt.show()"
   ]
  },
  {
   "cell_type": "code",
   "execution_count": 5,
   "metadata": {
    "collapsed": true
   },
   "outputs": [],
   "source": [
    "# OMP algorithm\n",
    "# THERE ARE MISSING LINES THAT YOU NEED TO FILL\n",
    "def OMP(imDims, sparsity, measurements, A):\n",
    "    r = measurements.copy()\n",
    "    indices = []\n",
    "    \n",
    "    # Threshold to check error. If error is below this value, stop.\n",
    "    THRESHOLD = 0.1\n",
    "    \n",
    "    # For iterating to recover all signal\n",
    "    i = 0\n",
    "    \n",
    "    while i < sparsity and np.linalg.norm(r) > THRESHOLD: \n",
    "        # Calculate the inner products of r with columns of A\n",
    "        print('%d - '%i,end=\"\",flush=True)\n",
    "        simvec = A.T.dot(r)\n",
    "\n",
    "        # Choose pixel location with highest inner product and add to collection\n",
    "        # COMPLETE THE LINE BELOW\n",
    "        best_index = np.argmax(np.abs(simvec))\n",
    "        indices.append(best_index)\n",
    "\n",
    "        # Build the matrix made up of selected indices so far\n",
    "        # COMPLETE THE LINE BELOW\n",
    "        Atrunc = A[:,indices]\n",
    "\n",
    "        # Find orthogonal projection of measurements to subspace\n",
    "        # spanned by recovered codewords\n",
    "        b = measurements\n",
    "        # COMPLETE THE LINE BELOW\n",
    "        xhat = np.linalg.lstsq(Atrunc, b)[0]  \n",
    "\n",
    "        # Find component orthogonal to subspace to use for next measurement\n",
    "        # COMPLETE THE LINE BELOW\n",
    "        r = b - Atrunc.dot(xhat)\n",
    "\n",
    "        # This is for viewing the recovery process\n",
    "        if i % 10 == 0 or i == sparsity-1 or np.linalg.norm(r) <= THRESHOLD:\n",
    "            recovered_signal = np.zeros(numPixels)\n",
    "            for j, x in zip(indices, xhat):\n",
    "                recovered_signal[j] = x\n",
    "            Ihat = recovered_signal.reshape(imDims)\n",
    "            plt.title('estimated image')\n",
    "            plt.imshow(Ihat, cmap=plt.cm.gray, interpolation='nearest') \n",
    "            display.clear_output(wait=True)\n",
    "            display.display(plt.gcf())\n",
    "        \n",
    "        i = i + 1\n",
    "        \n",
    "    display.clear_output(wait=True)\n",
    "\n",
    "    # Fill in the recovered signal\n",
    "    recovered_signal = np.zeros(numPixels)\n",
    "    for i, x in zip(indices, xhat):\n",
    "        recovered_signal[i] = x\n",
    "    \n",
    "    return recovered_signal"
   ]
  },
  {
   "cell_type": "markdown",
   "metadata": {},
   "source": [
    "### Part (b)"
   ]
  },
  {
   "cell_type": "code",
   "execution_count": null,
   "metadata": {
    "collapsed": true
   },
   "outputs": [],
   "source": [
    "rec = OMP((height,width), sparsity, measurements, A)"
   ]
  },
  {
   "cell_type": "markdown",
   "metadata": {},
   "source": [
    "### PRACTICE: Part (c)"
   ]
  },
  {
   "cell_type": "code",
   "execution_count": 6,
   "metadata": {},
   "outputs": [
    {
     "data": {
      "image/png": "[encoded data removed]",
      "text/plain": [
       "<Figure size 432x288 with 1 Axes>"
      ]
     },
     "metadata": {},
     "output_type": "display_data"
    }
   ],
   "source": [
    "# the setting\n",
    "\n",
    "# file name for the sparse image\n",
    "fname = 'figures/smiley.png'\n",
    "# number of measurements to be taken from the sparse image\n",
    "numMeasurements = 6500\n",
    "# the sparsity of the image\n",
    "sparsity = 400\n",
    "\n",
    "# read the image in black and white\n",
    "I = misc.imread(fname, flatten=1)\n",
    "# normalize the image to be between 0 and 1\n",
    "I = I/np.max(I)\n",
    "\n",
    "# shape of the image\n",
    "imageShape = I.shape\n",
    "# number of pixels in the image\n",
    "numPixels = I.size\n",
    "\n",
    "plt.title('input image')\n",
    "plt.imshow(I, cmap=plt.cm.gray, interpolation='nearest');"
   ]
  },
  {
   "cell_type": "code",
   "execution_count": null,
   "metadata": {
    "collapsed": true
   },
   "outputs": [],
   "source": [
    "# generate your image masks and the underlying measurement matrix\n",
    "Mask, A = randMasks(numMeasurements,numPixels)\n",
    "# vectorize your image\n",
    "full_signal = I.reshape((numPixels,1))\n",
    "# get the measurements\n",
    "measurements = np.dot(Mask,full_signal)\n",
    "# remove the mean from your measurements\n",
    "measurements = measurements - np.mean(measurements)"
   ]
  },
  {
   "cell_type": "code",
   "execution_count": null,
   "metadata": {
    "collapsed": true
   },
   "outputs": [],
   "source": [
    "# measurements\n",
    "plt.title('measurements')\n",
    "plt.plot(measurements)\n",
    "plt.xlabel('measurement index')\n",
    "plt.show()"
   ]
  },
  {
   "cell_type": "code",
   "execution_count": null,
   "metadata": {
    "collapsed": true
   },
   "outputs": [],
   "source": [
    "rec = OMP(imageShape, sparsity, measurements, A)"
   ]
  },
  {
   "cell_type": "code",
   "execution_count": null,
   "metadata": {
    "collapsed": true
   },
   "outputs": [],
   "source": []
  }
 ],
 "metadata": {
  "anaconda-cloud": {},
  "kernel_info": {
   "name": "python3"
  },
  "kernelspec": {
   "display_name": "Python 3",
   "language": "python",
   "name": "python3"
  },
  "language_info": {
   "codemirror_mode": {
    "name": "ipython",
    "version": 3
   },
   "file_extension": ".py",
   "mimetype": "text/x-python",
   "name": "python",
   "nbconvert_exporter": "python",
   "pygments_lexer": "ipython3",
   "version": "3.6.1"
  },
  "nteract": {
   "version": "0.12.3"
  }
 },
 "nbformat": 4,
 "nbformat_minor": 1
}
